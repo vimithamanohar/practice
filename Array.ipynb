{
 "cells": [
  {
   "cell_type": "markdown",
   "metadata": {},
   "source": [
    "# Binary Search \n",
    "\n",
    "Time complexities: O(Log n)  Using Binary search\n",
    "\n",
    "unsorted - O(n) "
   ]
  },
  {
   "cell_type": "code",
   "execution_count": 24,
   "metadata": {
    "collapsed": true
   },
   "outputs": [],
   "source": [
    "def binarySearch(array,low,high,val):\n",
    "    if high<low:\n",
    "        return -1\n",
    "    mid=(high+low)/2\n",
    "    mid=int(mid)\n",
    "    if val==array[mid]:\n",
    "        return mid+1\n",
    "    \n",
    "    if val>array[mid]:\n",
    "        return binarySearch(array,mid+1,high,val)\n",
    "    \n",
    "    return binarySearch(array,low,mid-1,val)\n",
    "    "
   ]
  },
  {
   "cell_type": "code",
   "execution_count": 48,
   "metadata": {},
   "outputs": [
    {
     "name": "stdout",
     "output_type": "stream",
     "text": [
      "Location: 5\n"
     ]
    }
   ],
   "source": [
    "array=[1,2,3,5,7,10,12]\n",
    "\n",
    "print(\"Location: \"+str(binarySearch(array,0,len(array),7)))\n"
   ]
  },
  {
   "cell_type": "markdown",
   "metadata": {},
   "source": [
    "## Given an array A[] and a number x, check for pair in A[] with sum as x"
   ]
  },
  {
   "cell_type": "code",
   "execution_count": 58,
   "metadata": {
    "collapsed": true
   },
   "outputs": [],
   "source": [
    "#Using HashMap  O(n) time if range of numbers is known\n",
    "\n",
    "CONSTBIN=100000\n",
    "\n",
    "def searchPairSum(array,sumValue):\n",
    "    bin=[0]*CONSTBIN\n",
    "    for i in range(0,len(array)):\n",
    "        temp=sumValue-array[i]\n",
    "        if temp>0 and bin[temp]==1:\n",
    "            print(\"Pair with  the sum \"+str(sumValue)+\" are: \"+str(array[i])+\" , \"+str(temp))\n",
    "        \n",
    "        bin[array[i]]=1\n",
    "        \n",
    "# use Sorting array and den search\n",
    "\n",
    "def searchPairInSortedArray(array,sumValue,r,l):\n",
    "    if(l<=r):\n",
    "        return \n",
    "    \n",
    "    s=array[r]+array[l]\n",
    "    \n",
    "    if s==sumValue:\n",
    "        print(\"Pair with  the sum \"+str(sumValue)+\" are: \"+str(array[r])+\" , \"+str(array[l]))\n",
    "        \n",
    "    if s>sumValue :\n",
    "        return searchPairInSortedArray(array,sumValue,r,l-1)\n",
    "    \n",
    "    return searchPairInSortedArray(array,sumValue,r+1,l)\n",
    "\n",
    "    \n",
    "    "
   ]
  },
  {
   "cell_type": "code",
   "execution_count": 62,
   "metadata": {
    "collapsed": true
   },
   "outputs": [],
   "source": [
    "array=[1,2,3,5,7,10,12]\n",
    "searchPairSum(array,16)\n",
    "searchPairInSortedArray(sorted(array),16,0,len(array)-1)"
   ]
  },
  {
   "cell_type": "markdown",
   "metadata": {},
   "source": [
    "## Find the Number Occurring Odd Number of Times\n",
    "\n",
    "Given an array of positive integers. All numbers occur even number of times except one number which occurs odd number of times."
   ]
  },
  {
   "cell_type": "code",
   "execution_count": 74,
   "metadata": {
    "collapsed": true
   },
   "outputs": [],
   "source": [
    "def getOddOccurence(array):\n",
    "    res=0\n",
    "    \n",
    "    for a in array:\n",
    "        res=res^a\n",
    "    return res"
   ]
  },
  {
   "cell_type": "code",
   "execution_count": 75,
   "metadata": {},
   "outputs": [
    {
     "name": "stdout",
     "output_type": "stream",
     "text": [
      "4\n"
     ]
    }
   ],
   "source": [
    "arr = [ 2, 3, 5, 4, 5, 2, 5, 3, 5, 2, 4, 4, 2]\n",
    "\n",
    "print(str(getOddOccurence(arr)))"
   ]
  },
  {
   "cell_type": "markdown",
   "metadata": {
    "collapsed": true
   },
   "source": [
    "# Largest Sum Contiguous Subarray\n",
    "\n",
    "find the sum of contiguous subarray within a one-dimensional array of numbers which has the largest sum."
   ]
  },
  {
   "cell_type": "code",
   "execution_count": 6,
   "metadata": {},
   "outputs": [
    {
     "name": "stdout",
     "output_type": "stream",
     "text": [
      "-3\n"
     ]
    }
   ],
   "source": [
    "array=[-13, -3, -25, -20, -3, -16, -23, -12, -5, -22, -15, -4, -7]\n",
    "\n",
    "i=1\n",
    "largestSum=array[0]\n",
    "curSum=array[0]\n",
    "\n",
    "for i in range(1,len(array)):\n",
    "    curSum=max(curSum+array[i],array[i])\n",
    "    largestSum=max(largestSum,curSum)\n",
    "\n",
    "print(largestSum)\n"
   ]
  },
  {
   "cell_type": "markdown",
   "metadata": {},
   "source": [
    "# Find the Missing Number\n",
    "\n",
    "You are given a list of n-1 integers and these integers are in the range of 1 to n. There are no duplicates in list. One of the integers is missing in the list. Write an efficient code to find the missing integer."
   ]
  },
  {
   "cell_type": "code",
   "execution_count": 11,
   "metadata": {},
   "outputs": [
    {
     "name": "stdout",
     "output_type": "stream",
     "text": [
      "5.0\n"
     ]
    }
   ],
   "source": [
    "def FindMissingNUmber(array):\n",
    "    n=len(array)\n",
    "    s=0\n",
    "    for i in range(0,n):\n",
    "        s=s+array[i]\n",
    "    n=n+1\n",
    "    missingNumber=(n*(n+1)/2)-s\n",
    "    return missingNumber\n",
    "\n",
    "array=[1, 2, 4,6, 3, 7, 8]\n",
    "    \n",
    "print(FindMissingNUmber(array))"
   ]
  },
  {
   "cell_type": "markdown",
   "metadata": {},
   "source": [
    "# Search an element in a sorted and rotated array\n",
    "\n",
    "Assume that all elements in array are distinct."
   ]
  },
  {
   "cell_type": "code",
   "execution_count": 18,
   "metadata": {},
   "outputs": [
    {
     "name": "stdout",
     "output_type": "stream",
     "text": [
      "NOT FOUND\n"
     ]
    }
   ],
   "source": [
    " def BinanrySearchRotatedSorted(arr,lb,ub,key):\n",
    "        if lb>ub:\n",
    "            return \"NOT FOUND\"\n",
    "        \n",
    "        mid=(lb+ub)/2\n",
    "        mid=int(mid)\n",
    "        \n",
    "        if key==arr[mid]:\n",
    "            return mid\n",
    "        \n",
    "        if arr[lb]<=arr[mid]:\n",
    "            if key<=arr[mid] and key>arr[lb]:\n",
    "                return BinanrySearchRotatedSorted(arr,lb,mid-1,key)\n",
    "            return BinanrySearchRotatedSorted(arr,mid+1,ub,key)\n",
    "        \n",
    "        else:\n",
    "            if key<=arr[ub] and key>=arr[mid]:\n",
    "                return BinanrySearchRotatedSorted(arr,mid+1,ub,key)\n",
    "            return BinanrySearchRotatedSorted(arr,lb,mid-1,key)\n",
    "\n",
    "        \n",
    "arr = [30, 40, 50, 10, 20];\n",
    "print(BinanrySearchRotatedSorted(arr,0,len(arr)-1,90))"
   ]
  },
  {
   "cell_type": "markdown",
   "metadata": {},
   "source": [
    "# Merge an array of size n into another array of size m+n\n",
    "\n",
    "There are two sorted arrays. First one is of size m+n containing only m elements. Another one is of size n and contains n elements. Merge these two arrays into the first array of size m+n such that the output is sorted."
   ]
  },
  {
   "cell_type": "code",
   "execution_count": 23,
   "metadata": {},
   "outputs": [
    {
     "name": "stdout",
     "output_type": "stream",
     "text": [
      "[2, 8, nan, nan, nan, 13, nan, 15, 20]\n",
      "[5, 7, 9, 25]\n",
      "After merge: [2, 5, 7, 8, 9, 13, 15, 20, 25]\n"
     ]
    }
   ],
   "source": [
    "import numpy as np\n",
    "\n",
    "def MoveToEnd(M):\n",
    "    j=len(M)-1\n",
    "    for i in range(len(M)-1,-1,-1):\n",
    "         if not np.isnan(M[i]):\n",
    "                M[j]=M[i]\n",
    "                j=j-1\n",
    "    return M\n",
    "\n",
    "def MergeSortedArrays(M,N):\n",
    "    m=len(N)\n",
    "    n=0\n",
    "    \n",
    "    for i in range(0,len(M)):\n",
    "        if n>=len(N):\n",
    "            break\n",
    "            \n",
    "        if m<len(M):\n",
    "            if M[m]<N[n]:\n",
    "                M[i]=M[m]\n",
    "                m=m+1\n",
    "                continue\n",
    "        M[i]=N[n]\n",
    "        n=n+1\n",
    "            \n",
    "    return M\n",
    "    \n",
    "\n",
    "a = [2, 8, np.nan, np.nan, np.nan, 13, np.nan, 15, 20]\n",
    "b=[5, 7, 9, 25]\n",
    "print(a)\n",
    "print(b)\n",
    "\n",
    "a=MoveToEnd(a)\n",
    "\n",
    "a=MergeSortedArrays(a,b)\n",
    "\n",
    "print(\"After merge: \"+str(a))"
   ]
  },
  {
   "cell_type": "markdown",
   "metadata": {
    "collapsed": true
   },
   "source": [
    "# Median of two sorted arrays\n",
    "There are 2 sorted arrays A and B of size n each. Write an algorithm to find the median of the array obtained after merging the above 2 arrays(i.e. array of length 2n). The complexity should be O(log(n))\n",
    "\n",
    "Analysis:\n",
    "Note that the definition of the Median:\n",
    "1. If the size of the sequence N is odd: N/2+1th element is median.\n",
    "2. If the size of the sequence N is even:  average of the N/2th and N/2+1th element is median.\n"
   ]
  },
  {
   "cell_type": "code",
   "execution_count": 24,
   "metadata": {
    "scrolled": true
   },
   "outputs": [
    {
     "name": "stdout",
     "output_type": "stream",
     "text": [
      "8\n"
     ]
    }
   ],
   "source": [
    "class Solution:\n",
    "    # @return a float\n",
    "    def findMedianSortedArrays(self, A, B):\n",
    "        if (len(A) + len(B)) % 2 == 0:\n",
    "            return (self.fms(A, B, (len(A) + len(B))/2) + self.fms(A, B, (len(A) + len(B))/2 + 1))/2.0\n",
    "        else:\n",
    "            return self.fms(A, B, (len(A) + len(B))/2 + 1)\n",
    "     \n",
    "    def fms(self, A, B, k):\n",
    "        \n",
    "        if len(A) > len(B):\n",
    "            return self.fms(B, A, k)\n",
    "        else:\n",
    "            if len(A) == 0:\n",
    "                return B[k-1]\n",
    "            if k == 1:\n",
    "                return min(A[0], B[0])\n",
    "            pa = min(k/2, len(A))\n",
    "            pa=int(pa)\n",
    "            pb = k - pa\n",
    "            pb=int(pb)\n",
    "            if A[pa-1] <= B[pb-1]:\n",
    "                return self.fms(A[pa:], B[:pb], int(k-pa))\n",
    "            else:\n",
    "                return self.fms(A[:pa], B[pb:], int(k-pb))\n",
    "             \n",
    "        \n",
    "\n",
    "ar1= [1,3,5,7,9] \n",
    "ar2 = [2,4,8,10,12,14,16,18]\n",
    "\n",
    "s=Solution()\n",
    "print(str(s.findMedianSortedArrays(ar1,ar2)))"
   ]
  },
  {
   "cell_type": "markdown",
   "metadata": {
    "collapsed": true
   },
   "source": [
    "# Reverse Array or String"
   ]
  },
  {
   "cell_type": "code",
   "execution_count": 29,
   "metadata": {},
   "outputs": [
    {
     "name": "stdout",
     "output_type": "stream",
     "text": [
      "[7, 6, 5, 4, 3, 2, 1]\n"
     ]
    }
   ],
   "source": [
    "def ReverseArray(arr):\n",
    "    end=len(arr)\n",
    "    for i in range(0,int(end/2)):\n",
    "        temp=arr[i]\n",
    "        arr[i]=arr[end-i-1]\n",
    "        arr[end-i-1]=temp\n",
    "    return arr\n",
    "        \n",
    "arr = [1, 2, 3, 4, 5, 6,7]\n",
    "arr=ReverseArray(arr)\n",
    "print(arr)"
   ]
  },
  {
   "cell_type": "markdown",
   "metadata": {},
   "source": [
    "# Program for array rotation\n",
    "Write a function rotate(ar[], d, n) that rotates arr[] of size n by d elements."
   ]
  },
  {
   "cell_type": "code",
   "execution_count": 58,
   "metadata": {},
   "outputs": [
    {
     "name": "stdout",
     "output_type": "stream",
     "text": [
      "[3, 4, 5, 6, 7, 1, 2]\n"
     ]
    }
   ],
   "source": [
    "def ReverseLimitedArray(arr,start,end):\n",
    "    mid=int((end-start)/2)\n",
    "    for i in range(0,mid):\n",
    "        temp=arr[start+i]\n",
    "        arr[start+i]=arr[end-i-1]\n",
    "        arr[end-i-1]=temp\n",
    "    return arr\n",
    "\n",
    "def RotateArray(arr,order):\n",
    "    arr=ReverseLimitedArray(arr,0,order)\n",
    "    arr=ReverseLimitedArray(arr,order,len(arr))\n",
    "    arr=ReverseLimitedArray(arr,0,len(arr))\n",
    "    return arr\n",
    "    \n",
    "arr = [1, 2, 3, 4, 5, 6,7]\n",
    "arr=RotateArray(arr,2)\n",
    "print(arr)"
   ]
  },
  {
   "cell_type": "markdown",
   "metadata": {},
   "source": [
    "# Maximum sum such that no two elements are adjacent\n",
    "\n",
    "Given an array of positive numbers, find the maximum sum of a subsequence with the constraint that no 2 numbers in the sequence should be adjacent in the array. So 3 2 7 10 should return 13 (sum of 3 and 10) or 3 2 5 10 7 should return 15 (sum of 3, 5 and 7).Answer the question in most efficient way."
   ]
  },
  {
   "cell_type": "code",
   "execution_count": 2,
   "metadata": {},
   "outputs": [
    {
     "name": "stdout",
     "output_type": "stream",
     "text": [
      "80\n"
     ]
    }
   ],
   "source": [
    "def MaxSumNoTwoAdjacent(array):\n",
    "    incld=0\n",
    "    excld=0\n",
    "    \n",
    "    for i in array:\n",
    "        new_excld=incld if incld>excld else excld\n",
    "        incld=excld+i\n",
    "        excld=new_excld\n",
    "    \n",
    "    return (incld if incld>excld else excld)\n",
    "\n",
    "arr = [5, 5, 10, 4, 5, 65]\n",
    "print(str(MaxSumNoTwoAdjacent(arr)))"
   ]
  },
  {
   "cell_type": "markdown",
   "metadata": {},
   "source": [
    "# Leaders in an array\n",
    "\n",
    "Write a program to print all the LEADERS in the array. An element is leader if it is greater than all the elements to its right side. And the rightmost element is always a leader. For example int the array {16, 17, 4, 3, 5, 2}, leaders are 17, 5 and 2."
   ]
  },
  {
   "cell_type": "code",
   "execution_count": 13,
   "metadata": {},
   "outputs": [
    {
     "name": "stdout",
     "output_type": "stream",
     "text": [
      "42\n"
     ]
    }
   ],
   "source": [
    "def findLeaders(array):\n",
    "    \n",
    "    arrayLength=len(array)\n",
    "    if arrayLength==1:\n",
    "        print(array)\n",
    "    maxVal=array[arrayLength-1]\n",
    "    for i in range(arrayLength-2,-1,-1):\n",
    "        if maxVal<array[i]:\n",
    "            print(maxVal)\n",
    "            maxVal=array[i]\n",
    "    print(maxVal)\n",
    "        \n",
    "\n",
    "findLeaders([16, 17, 4, 13, 5, 42])\n",
    "\n"
   ]
  },
  {
   "cell_type": "markdown",
   "metadata": {},
   "source": [
    "# Sort elements by frequency\n",
    "Print the elements of an array in the decreasing frequency if 2 numbers have same frequency then print the one which came first.\n"
   ]
  },
  {
   "cell_type": "code",
   "execution_count": null,
   "metadata": {
    "collapsed": true
   },
   "outputs": [],
   "source": []
  },
  {
   "cell_type": "markdown",
   "metadata": {},
   "source": [
    "# Count Inversions in an array \n",
    "\n",
    "nversion Count for an array indicates – how far (or close) the array is from being sorted. If array is already sorted then inversion count is 0. If array is sorted in reverse order that inversion count is the maximum. \n",
    "Formally speaking, two elements a[i] and a[j] form an inversion if a[i] > a[j] and i < j"
   ]
  },
  {
   "cell_type": "code",
   "execution_count": 12,
   "metadata": {},
   "outputs": [
    {
     "name": "stdout",
     "output_type": "stream",
     "text": [
      "5\n"
     ]
    }
   ],
   "source": [
    "def count_inversion(lst):\n",
    "    return merge_count_inversion(lst)[1]\n",
    "\n",
    "def merge_count_inversion(array):\n",
    "    if len(array)<2:\n",
    "        return array,0\n",
    "    \n",
    "    mid=int(len(array)/2)\n",
    "    left,a=merge_count_inversion(array[:mid])\n",
    "    right,b=merge_count_inversion(array[mid:])\n",
    "    \n",
    "    result,c=Merge_InversionCount_Split(left,right)\n",
    "    #print(str(a)+\" \"+str(b)+\" \"+str(c))\n",
    "    return result,(a+b+c)\n",
    "\n",
    "def Merge_InversionCount_Split(left,right):\n",
    "    i,j=0,0\n",
    "    count=0\n",
    "    result=[]\n",
    "    \n",
    "    leftLen=len(left)\n",
    "    \n",
    "    while i<len(left) and j<len(right):\n",
    "        if left[i]<=right[j]:\n",
    "            result.append(left[i])\n",
    "            i+=1\n",
    "            \n",
    "        else:\n",
    "            result.append(right[j])\n",
    "            count+=leftLen-i\n",
    "            \n",
    "            j+=1\n",
    "            \n",
    "    result+=left[i:]\n",
    "    result+=right[j:]\n",
    "    \n",
    "    return result,count\n",
    "\n",
    "input_array = [4, 1, 3, 2, 9, 5] \n",
    "inv=count_inversion(input_array)\n",
    "print(inv)"
   ]
  },
  {
   "cell_type": "markdown",
   "metadata": {},
   "source": [
    "# Two elements whose sum is closest to zero\n",
    "An Array of integers is given, both +ve and -ve. You need to find the two elements such that their sum is closest to zero.\n"
   ]
  },
  {
   "cell_type": "code",
   "execution_count": 29,
   "metadata": {},
   "outputs": [
    {
     "name": "stdout",
     "output_type": "stream",
     "text": [
      "-80 85\n"
     ]
    }
   ],
   "source": [
    "def sumClosestToZero(array):\n",
    "    array.sort()\n",
    "    l=0\n",
    "    r=len(array)-1\n",
    "    \n",
    "    min_l=0\n",
    "    min_r=r\n",
    "    min_sum=array[l]+array[r]\n",
    "    \n",
    "    while l<r:\n",
    "        summ=array[l]+array[r]\n",
    "        if abs(min_sum)>abs(summ) :\n",
    "            min_sum=summ\n",
    "            min_l=l\n",
    "            min_r=r\n",
    "        \n",
    "        if summ<0:\n",
    "            l+=1\n",
    "        else:\n",
    "            r-=1\n",
    "    \n",
    "    print(str(array[min_l])+\" \"+str(array[min_r]))\n",
    "    \n",
    "array=[1, 60, -10, 70, -80, 85]\n",
    "sumClosestToZero(array)"
   ]
  },
  {
   "cell_type": "markdown",
   "metadata": {},
   "source": [
    "# Find the smallest and second smallest element in an array\n"
   ]
  },
  {
   "cell_type": "code",
   "execution_count": 37,
   "metadata": {},
   "outputs": [
    {
     "name": "stdout",
     "output_type": "stream",
     "text": [
      "1 10\n"
     ]
    }
   ],
   "source": [
    "def FindSmallestAndSecondSmallest(array):\n",
    "    smallest=array[0] if array[0]<array[1] else array[1]\n",
    "    secondSmallest=array[1] if array[0]<array[1] else array[0]\n",
    "    \n",
    "    for i in range(2,len(array)):\n",
    "        if array[i]<secondSmallest:\n",
    "            if array[i]<smallest:\n",
    "                secondSmallest=smallest\n",
    "                smallest=array[i]\n",
    "            if array[i]!=smallest:    \n",
    "                secondSmallest=array[i]\n",
    "    \n",
    "    print(str(smallest)+\" \"+str(secondSmallest))\n",
    "\n",
    "array=[12, 13, 1, 10, 34, 1]\n",
    "FindSmallestAndSecondSmallest(array)"
   ]
  },
  {
   "cell_type": "markdown",
   "metadata": {},
   "source": [
    "# Check for Majority Element in a sorted array\n",
    "Question: Write a C function to find if a given integer x appears more than n/2 times in a sorted array of n integers.\n",
    "\n",
    "Basically, we need to write a function say isMajority() that takes an array (arr[] ), array’s size (n) and a number to be searched (x) as parameters and returns true if x is a majority element (present more than n/2 times).\n",
    "\n"
   ]
  },
  {
   "cell_type": "code",
   "execution_count": 57,
   "metadata": {},
   "outputs": [
    {
     "name": "stdout",
     "output_type": "stream",
     "text": [
      "2\n",
      "False\n"
     ]
    }
   ],
   "source": [
    "def isMajority(array,num):\n",
    "    length=len(array)\n",
    "    ithloction=BinarySearch(array,0,length-1,num)\n",
    "    print(ithloction)\n",
    "    if array[ithloction+int(length/2)]==num:\n",
    "        print(\"True\")\n",
    "        \n",
    "    else:\n",
    "        print(\"False\")\n",
    "    \n",
    "    \n",
    "def BinarySearch(array,left,right,key):\n",
    "    if left<=right:\n",
    "        mid=(left+right)/2\n",
    "        mid=int(mid)\n",
    "        if (array[0]==key or array[mid-1]<key) and array[mid]==key:\n",
    "            return mid\n",
    "\n",
    "        if key>array[mid]:\n",
    "            BinarySearch(array,mid+1,right,key)\n",
    "        else:\n",
    "            BinarySearch(array,left,mid-1,key)\n",
    "\n",
    "    return -1\n",
    "\n",
    "array=[1, 1, 1, 2, 2]\n",
    "isMajority(array,1)"
   ]
  },
  {
   "cell_type": "markdown",
   "metadata": {
    "collapsed": true
   },
   "source": [
    "# Maximum and minimum of an array using minimum number of comparisons"
   ]
  },
  {
   "cell_type": "code",
   "execution_count": 11,
   "metadata": {},
   "outputs": [
    {
     "name": "stdout",
     "output_type": "stream",
     "text": [
      "Minimum: 1 \n",
      "Maximum 16\n"
     ]
    }
   ],
   "source": [
    "def findMaxAndMin(arr):\n",
    "    if(len(arr)==1):\n",
    "        return arr[0],arr[0]\n",
    "    \n",
    "    minimum=arr[0] if arr[0]<arr[1] else arr[1]\n",
    "    maximum=arr[1] if arr[0]<arr[1] else arr[0]\n",
    "    \n",
    "    for i in range(2,len(arr)):\n",
    "        if arr[i]>maximum:\n",
    "            maximum=arr[i]\n",
    "        if arr[i]<minimum:\n",
    "            minimum=arr[i]\n",
    "    return minimum,maximum\n",
    "    \n",
    "    \n",
    "arr=[2,3,6,12,16,1]\n",
    "minimum=findMaxAndMin(arr)[0]\n",
    "maximum=findMaxAndMin(arr)[1]\n",
    "print(\"Minimum: \"+str(minimum)+\" \\nMaximum \"+str(maximum))"
   ]
  },
  {
   "cell_type": "markdown",
   "metadata": {},
   "source": [
    "# Segregate 0s and 1s in an array\n",
    "You are given an array of 0s and 1s in random order. Segregate 0s on left side and 1s on right side of the array. Traverse array only once."
   ]
  },
  {
   "cell_type": "code",
   "execution_count": 15,
   "metadata": {},
   "outputs": [
    {
     "name": "stdout",
     "output_type": "stream",
     "text": [
      "[0, 0, 0, 1, 1, 1, 1]\n"
     ]
    }
   ],
   "source": [
    "def segregateArray(arr):\n",
    "    if(len(arr)<=1):\n",
    "        return arr\n",
    "    l=0\n",
    "    r=len(arr)-1\n",
    "    while l<r:\n",
    "        while(arr[l]==0):\n",
    "            l+=1\n",
    "        while(arr[r]==1):\n",
    "            r-=1\n",
    "        if(l<r):\n",
    "            arr[l]=0\n",
    "            arr[r]=1\n",
    "            l+=1\n",
    "            r-=1\n",
    "    return arr\n",
    "\n",
    "arr=[0, 1, 0, 1, 1,0, 1]\n",
    "print(segregateArray(arr))"
   ]
  },
  {
   "cell_type": "markdown",
   "metadata": {},
   "source": [
    "# k largest(or smallest) elements in an array | added Min Heap method\n",
    "Question: Write an efficient program for printing k largest elements in an array. Elements in array can be in any order."
   ]
  },
  {
   "cell_type": "code",
   "execution_count": null,
   "metadata": {
    "collapsed": true
   },
   "outputs": [],
   "source": [
    " public class minHeap {\n",
    "\tpublic int size;\n",
    "\tpublic int [] mH;\n",
    "\tpublic int position;\n",
    "\tpublic minHeap(int size){\n",
    "\t\tthis.size=size;\n",
    "\t\tmH = new int [size+1];\n",
    "\t\tposition = 0;\n",
    "\t}\n",
    "\tpublic void createHeap(int [] arrA){\n",
    "\t\tif(arrA.length>0){\n",
    "\t\t\tfor(int i=0;i<arrA.length;i++){\n",
    "\t\t\t\tinsert(arrA[i]);\n",
    "\t\t\t}\n",
    "\t\t}\t\t\n",
    "\t}\n",
    "\tpublic void display(){\n",
    "\t\tfor(int i=1;i<mH.length;i++){\n",
    "\t\t\tSystem.out.print(\" \" + mH[i]);\t\t\t\n",
    "\t\t}\n",
    "\t\tSystem.out.println(\"\");\n",
    "\t}\n",
    "\tpublic void insert(int x){\n",
    "\t\tif(position==0){\n",
    "\t\t\tmH[position+1]=x;\n",
    "\t\t\tposition = 2;\n",
    "\t\t}else{\n",
    "\t\t\tmH[position++]=x;\n",
    "\t\t\tbubbleUp();\n",
    "\t\t}\n",
    "\t}\n",
    "\tpublic void bubbleUp(){\n",
    "\t\tint pos = position-1;\n",
    "\t\twhile(pos>0 && mH[pos/2]>mH[pos]){\n",
    "\t\t\tint y = mH[pos];\n",
    "\t\t\tmH[pos]=mH[pos/2];\n",
    "\t\t\tmH[pos/2] = y;\n",
    "\t\t\tpos = pos/2;\n",
    "\t\t}\n",
    "\t}\n",
    "\tpublic int extractMin(){\n",
    "\t\tint min = mH[1];\n",
    "\t\tmH[1]=mH[position-1];\n",
    "\t\tmH[position-1]=0;\n",
    "\t\tposition--;\t\t\n",
    "\t\tsinkDown(1);\n",
    "\t\treturn min;\n",
    "\t}\n",
    "\t\n",
    "\tpublic void sinkDown(int k){int a = mH[k];\n",
    "\t\tint smallest =k;\n",
    "\t\tif(2*k<position && mH[smallest]>mH[2*k]){\n",
    "\t\t\tsmallest = 2*k;\n",
    "\t\t}\n",
    "\t\tif(2*k+1<position && mH[smallest]>mH[2*k+1]){\n",
    "\t\t\tsmallest = 2*k+1;\n",
    "\t\t}\n",
    "\t\tif(smallest!=k){\n",
    "\t\t\tswap(k,smallest);\n",
    "\t\t\tsinkDown(smallest);\n",
    "\t\t}\n",
    "\t\t\t\t\n",
    "\t}\n",
    "\tpublic void swap(int a, int b){\n",
    "\t\t//System.out.println(\"swappinh\" + mH[a] + \" and \" + mH[b]);\n",
    "\t\tint temp = mH[a];\n",
    "\t\tmH[a] = mH[b];\n",
    "\t\tmH[b] = temp;\n",
    "\t}\n",
    "\t\n",
    "\tpublic static void main(String args[]){\n",
    "\t\tint arrA [] = {3,2,1,7,8,4,10,16,12};\n",
    "\t\tSystem.out.print(\"Original Array : \");\n",
    "\t\tfor(int i=0;i<arrA.length;i++){\n",
    "\t\t\tSystem.out.print(\"  \" + arrA[i]);\n",
    "\t\t}\n",
    "\t\tminHeap m = new minHeap(arrA.length);\n",
    "\t\tSystem.out.print(\"\\nMin-Heap : \");\n",
    "\t\tm.createHeap(arrA);\t\t\n",
    "\t\tm.display();\n",
    "\t\tSystem.out.print(\"Extract Min :\");\n",
    "\t\tfor(int i=0;i<arrA.length;i++){\n",
    "\t\t\tSystem.out.print(\"  \" + m.extractMin());\n",
    "\t\t}\n",
    "\t\t\n",
    "\t}\n",
    "\t\n",
    "\t\t\n",
    "}"
   ]
  },
  {
   "cell_type": "code",
   "execution_count": null,
   "metadata": {
    "collapsed": true
   },
   "outputs": [],
   "source": [
    "public class KthSmallestElementInArray {\n",
    "\n",
    "\tpublic static int find(int [] A, int k){\n",
    "\t\tPriorityQueue<Integer> pq = new PriorityQueue<Integer>();\n",
    "\t\tfor(int i=0;i<A.length;i++){\n",
    "\t\t\tpq.offer(A[i]);\n",
    "\t\t}\n",
    "\t\tint n = -1;\n",
    "\t\twhile(k>0){\n",
    "\t\t\tn = pq.poll();\n",
    "\t\t\tk--;\n",
    "\t\t}\n",
    "\t\treturn n;\n",
    "\t}\n",
    "\tpublic static void main(String[] args) {\n",
    "\t\tint[] A = { 1, 2, 10, 20, 40, 32, 44, 51, 6 };\n",
    "\t\tint k = 4;\n",
    "\t\tSystem.out.println(\"4th smallest element:\" + find(A,4));\n",
    "\n",
    "\t}\n",
    "\n",
    "}"
   ]
  },
  {
   "cell_type": "markdown",
   "metadata": {
    "collapsed": true
   },
   "source": [
    "# Get sqaureroot of a number"
   ]
  },
  {
   "cell_type": "code",
   "execution_count": 18,
   "metadata": {},
   "outputs": [
    {
     "data": {
      "text/plain": [
       "3"
      ]
     },
     "execution_count": 18,
     "metadata": {},
     "output_type": "execute_result"
    }
   ],
   "source": [
    "def findSqrt(a):\n",
    "    if a<0:\n",
    "        return -1\n",
    "    \n",
    "    if a==1 or a==0:\n",
    "        return a\n",
    "    \n",
    "    start=1\n",
    "    end=a/2\n",
    "    \n",
    "    ans=0\n",
    "    \n",
    "    while start<=end:\n",
    "        mid= int((start+end)/2)\n",
    "        midprd=mid*mid\n",
    "        if midprd==a:\n",
    "            return mid\n",
    "\n",
    "        if midprd<a:\n",
    "            start=mid+1\n",
    "            ans=mid\n",
    "        else:\n",
    "            end=mid-1\n",
    "\n",
    "    return ans\n",
    "\n",
    "findSqrt(11)"
   ]
  },
  {
   "cell_type": "markdown",
   "metadata": {},
   "source": [
    "# Count number of occurrences (or frequency) in a sorted array"
   ]
  },
  {
   "cell_type": "code",
   "execution_count": 27,
   "metadata": {},
   "outputs": [
    {
     "data": {
      "text/plain": [
       "4"
      ]
     },
     "execution_count": 27,
     "metadata": {},
     "output_type": "execute_result"
    }
   ],
   "source": [
    "def noOfOccurence(arr,a):\n",
    "    n=len(arr)\n",
    "    if n==1 and arr[0]==a:\n",
    "        return 1\n",
    "    \n",
    "    firstoccurence=first(arr,0,n-1,a)\n",
    "    \n",
    "    if firstoccurence==-1:\n",
    "        return -1\n",
    "    \n",
    "    lastoccurence=last(arr,0,n-1,a,n)\n",
    "    \n",
    "    #print(str(lastoccurence)+\" \"+str(firstoccurence))\n",
    "    \n",
    "    return lastoccurence-firstoccurence+1\n",
    "\n",
    "def first(arr,start,end,a):\n",
    "    while start<=end:\n",
    "        mid=int((start+end)/2)\n",
    "        if (arr[mid-1]<a or mid==0)and(arr[mid]==a):\n",
    "            return mid\n",
    "        \n",
    "        if arr[mid]<a:\n",
    "            start=mid+1\n",
    "        else:\n",
    "            end=mid-1\n",
    "        \n",
    "    return -1\n",
    "\n",
    "def last(arr,start,end,a,n):\n",
    "    while start<=end:\n",
    "        mid=int((start+end)/2)\n",
    "        #print(mid)\n",
    "        if (mid==n-1 or arr[mid+1]>a)and(arr[mid]==a):\n",
    "            return mid\n",
    "        \n",
    "        if arr[mid]>a:\n",
    "            end=mid-1\n",
    "        else:\n",
    "            start=mid+1\n",
    "        \n",
    "    return -1\n",
    "\n",
    "noOfOccurence([1, 2, 2, 3, 3, 3, 3],3)"
   ]
  },
  {
   "cell_type": "markdown",
   "metadata": {
    "collapsed": true
   },
   "source": [
    "# Print all valid combinations of groups of parenthesis"
   ]
  },
  {
   "cell_type": "code",
   "execution_count": 5,
   "metadata": {},
   "outputs": [
    {
     "name": "stdout",
     "output_type": "stream",
     "text": [
      "((()))\n",
      "(()())\n",
      "(())()\n",
      "()(())\n",
      "()()()\n"
     ]
    }
   ],
   "source": [
    "def printParanthesis(openP,closeP,bracket):\n",
    "    if openP==0 and closeP==0:\n",
    "        print(bracket)\n",
    "    \n",
    "    if openP>closeP:\n",
    "        return\n",
    "    \n",
    "    if(openP>0):\n",
    "        printParanthesis(openP-1,closeP,bracket+\"(\")\n",
    "    \n",
    "    if(closeP>0):\n",
    "        printParanthesis(openP,closeP-1,bracket+\")\")\n",
    "        \n",
    "\n",
    "length=6\n",
    "\n",
    "printParanthesis(int(length/2),int(length/2),\"\")"
   ]
  },
  {
   "cell_type": "code",
   "execution_count": null,
   "metadata": {
    "collapsed": true
   },
   "outputs": [],
   "source": []
  }
 ],
 "metadata": {
  "kernelspec": {
   "display_name": "Python 3",
   "language": "python",
   "name": "python3"
  },
  "language_info": {
   "codemirror_mode": {
    "name": "ipython",
    "version": 3
   },
   "file_extension": ".py",
   "mimetype": "text/x-python",
   "name": "python",
   "nbconvert_exporter": "python",
   "pygments_lexer": "ipython3",
   "version": "3.6.1"
  }
 },
 "nbformat": 4,
 "nbformat_minor": 2
}
