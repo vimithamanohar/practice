{
 "cells": [
  {
   "cell_type": "markdown",
   "metadata": {},
   "source": [
    "# Linked List  \n",
    "\n",
    "Like arrays, Linked List is a linear data structure. Unlike arrays, linked list elements are not stored at contiguous location; the elements are linked using pointers.\n",
    "\n",
    "## Why Linked List?\n",
    "Arrays can be used to store linear data of similar types, but arrays have following limitations.\n",
    "* The size of the arrays is fixed: So we must know the upper limit on the number of elements in advance. Also, generally, the allocated memory is equal to the upper limit irrespective of the usage.\n",
    "* Inserting a new element in an array of elements is expensive, because room has to be created for the new elements and to create room existing elements have to shifted.\n",
    "* Deletion is also expensive with arrays until unless some special techniques are used. For example, to delete 1010 in id[], everything after 1010 has to be moved.\n",
    "\n",
    "Advantages over arrays\n",
    "1. Dynamic size\n",
    "2. Ease of insertion/deletion\n",
    "\n",
    "Drawbacks:\n",
    "1. Random access is not allowed. We have to access elements sequentially starting from the first node. So we cannot do binary search with linked lists.\n",
    "2. Extra memory space for a pointer is required with each element of the list."
   ]
  },
  {
   "cell_type": "markdown",
   "metadata": {},
   "source": [
    " ## Insert a new node in linked list\n",
    " \n",
    " A node can be added in three ways\n",
    "1. At the front of the linked list   - push()\n",
    "2. After a given node.               - insert()\n",
    "3. At the end of the linked list     -append()"
   ]
  },
  {
   "cell_type": "code",
   "execution_count": 1,
   "metadata": {
    "collapsed": true
   },
   "outputs": [],
   "source": [
    "class Node:\n",
    "    def __init__(self,initdata):\n",
    "        self.data=initdata\n",
    "        self.next = None\n",
    "\n",
    "class LinkedList:\n",
    "    def __init__(self):\n",
    "        self.head=None\n",
    "    \n",
    "    def printList(self):\n",
    "        temp=self.head\n",
    "        liststr=\"\"\n",
    "        while(temp):\n",
    "            liststr=liststr+str(temp.data)+\" -> \"\n",
    "            temp=temp.next\n",
    "        print(liststr+ \"None\")\n",
    "        \n",
    "    def push (self,newdata):\n",
    "        n=Node(newdata)\n",
    "        n.next=self.head\n",
    "        self.head=n\n",
    "    \n",
    "    def insertAfter(self,newdata,prev_node):\n",
    "        \n",
    "        if prev_node is Node:\n",
    "            print(\"Previous Node missing\")\n",
    "            return\n",
    "        \n",
    "        n=Node(newdata)\n",
    "        n.next=prev_node.next\n",
    "        prev_node.next=n\n",
    "    \n",
    "    def append(self,newdata):\n",
    "        n=Node(newdata)\n",
    "        if self.head is None:\n",
    "            self.head=n\n",
    "            return\n",
    "        \n",
    "        last =self.head\n",
    "        while(last.next!=None):\n",
    "            last=last.next\n",
    "        \n",
    "        last.next=n\n",
    "    def addAnotherList(self,Llist):\n",
    "        if Llist is None:\n",
    "            return\n",
    "        cur=self.head\n",
    "        if cur is None:\n",
    "            cur=Llist.head\n",
    "            \n",
    "        else:\n",
    "            while cur.next is not None:\n",
    "                cur=cur.next\n",
    "            cur.next=Llist.head"
   ]
  },
  {
   "cell_type": "markdown",
   "metadata": {},
   "source": [
    "# Reverse Linked List"
   ]
  },
  {
   "cell_type": "code",
   "execution_count": 2,
   "metadata": {
    "collapsed": true
   },
   "outputs": [],
   "source": [
    "def ReverseList(linkedlist):\n",
    "    curr=linkedlist.head\n",
    "    if linkedlist is None: \n",
    "        return linkedlist\n",
    "    prev=None\n",
    "    while curr is not None:\n",
    "        nexxt=curr.next\n",
    "        curr.next=prev\n",
    "        prev=curr\n",
    "        curr=nexxt\n",
    "    \n",
    "    linkedlist.head=prev\n",
    "    \n",
    "    return linkedlist\n",
    "    \n",
    "    "
   ]
  },
  {
   "cell_type": "code",
   "execution_count": 3,
   "metadata": {},
   "outputs": [
    {
     "name": "stdout",
     "output_type": "stream",
     "text": [
      "41 -> 2 -> 8 -> None\n",
      "After reverse\n",
      "8 -> 2 -> 41 -> None\n"
     ]
    }
   ],
   "source": [
    "if __name__=='__main__':\n",
    "    llist = LinkedList()\n",
    "   # llist.append(6)\n",
    "    \n",
    "    llist.push(2)\n",
    "    llist.push(41)\n",
    "    llist.insertAfter(8,llist.head.next)\n",
    "    llist.printList()\n",
    "    llist=ReverseList(llist)\n",
    "    print(\"After reverse\")\n",
    "    llist.printList()\n",
    "    "
   ]
  },
  {
   "cell_type": "markdown",
   "metadata": {
    "collapsed": true
   },
   "source": [
    "# Remove duplicates in unsorted linked list"
   ]
  },
  {
   "cell_type": "code",
   "execution_count": 4,
   "metadata": {
    "collapsed": true
   },
   "outputs": [],
   "source": [
    "def removeDupicates(linkedList):\n",
    "    curr=linkedList.head\n",
    "    prev=None\n",
    "    hashtable={}\n",
    "    \n",
    "    while(curr is not None):\n",
    "        if curr.data in hashtable:\n",
    "            prev.next=curr.next\n",
    "            \n",
    "        else:\n",
    "            hashtable[curr.data]=1\n",
    "            prev=curr\n",
    "        \n",
    "        curr=curr.next\n",
    "\n",
    "# without buffer\n",
    "\n",
    "#run two pointer, loop twice.. O(N^2) time"
   ]
  },
  {
   "cell_type": "code",
   "execution_count": null,
   "metadata": {},
   "outputs": [],
   "source": [
    "llist.push(1)\n",
    "llist.append(8)\n",
    "llist.printList()\n",
    "print(\"after removeDuplicates\")\n",
    "removeDupicates(llist)\n",
    "llist.printList()"
   ]
  },
  {
   "cell_type": "markdown",
   "metadata": {},
   "source": [
    "# Return Kth to Last"
   ]
  },
  {
   "cell_type": "code",
   "execution_count": null,
   "metadata": {
    "collapsed": true
   },
   "outputs": [],
   "source": [
    "def KthReturnToLast(LList,k):\n",
    "    curr=LList.head\n",
    "    kthLast=curr\n",
    "    count=0\n",
    "    while curr is not None:\n",
    "        count+=1\n",
    "        if count> k:\n",
    "            kthLast=kthLast.next\n",
    "        \n",
    "        curr=curr.next\n",
    "        \n",
    "    if k>count: \n",
    "        print(\"Only \"+ str(count)+\" elements der in the list\")\n",
    "        \n",
    "    else:\n",
    "        print(kthLast.data)\n",
    "    \n"
   ]
  },
  {
   "cell_type": "code",
   "execution_count": null,
   "metadata": {},
   "outputs": [],
   "source": [
    "KthReturnToLast(llist,2)"
   ]
  },
  {
   "cell_type": "markdown",
   "metadata": {},
   "source": [
    "# Partition List using a pivot value , partion element can appear anywhere"
   ]
  },
  {
   "cell_type": "code",
   "execution_count": null,
   "metadata": {
    "collapsed": true
   },
   "outputs": [],
   "source": [
    "def partitionUsingPivot(llist,x):\n",
    "    node=llist.head\n",
    "    head=llist.head\n",
    "    tail=llist.head\n",
    "    \n",
    "    while node is not None:\n",
    "        nextNode=node.next\n",
    "        \n",
    "        if node.data<x:\n",
    "            node.next=head\n",
    "            head=node\n",
    "           \n",
    "        else:\n",
    "            tail.next=node\n",
    "            tail=node\n",
    "            \n",
    "        node=nextNode\n",
    "        \n",
    "    tail.next=None\n",
    "    llist.head=head\n",
    "    #return head\n"
   ]
  },
  {
   "cell_type": "code",
   "execution_count": null,
   "metadata": {},
   "outputs": [],
   "source": [
    "\n",
    "llist=LinkedList()\n",
    "llist.append(1)\n",
    "llist.append(4)\n",
    "llist.append(3)\n",
    "llist.append(2)\n",
    "llist.append(5)\n",
    "llist.append(2)\n",
    "llist.append(3)   \n",
    "llist.printList()\n",
    "\n",
    "print(\"After Partion\")\n",
    "partitionUsingPivot(llist,3)\n",
    "\n",
    "llist.printList()"
   ]
  },
  {
   "cell_type": "markdown",
   "metadata": {},
   "source": [
    "# if partion, the order must be stored and the pivot shld cme in between"
   ]
  },
  {
   "cell_type": "code",
   "execution_count": null,
   "metadata": {
    "collapsed": true
   },
   "outputs": [],
   "source": [
    "def partiitonFixedPivot(llist,x):\n",
    "    sHead=sTail=None\n",
    "    gHead=gTail=None\n",
    "    eHead=eTail=None\n",
    "    \n",
    "    curr=llist.head\n",
    "    \n",
    "    while curr is not None:\n",
    "        #when the values are small\n",
    "        if(curr.data<x):\n",
    "            if sHead is None:\n",
    "                sHead=sTail=curr\n",
    "            else:\n",
    "                sTail.next=curr\n",
    "                sTail=curr\n",
    "        \n",
    "        #when the values are greater\n",
    "        if(curr.data>x):\n",
    "            if gHead is None:\n",
    "                gHead=gTail=curr\n",
    "            else:\n",
    "                gTail.next=curr\n",
    "                gTail=curr\n",
    "        \n",
    "         #when the values are greater\n",
    "        if(curr.data==x):\n",
    "            if eHead is None:\n",
    "                eHead=eTail=curr\n",
    "            else:\n",
    "                eTail.next=curr\n",
    "                eTail=curr\n",
    "           \n",
    "        curr=curr.next\n",
    "    \n",
    "    if sHead is not None:\n",
    "        llist.head=sHead\n",
    "        if eHead is not None:\n",
    "            sTail.next=eHead\n",
    "            sTail=eTail\n",
    "            \n",
    "        if gHead is not None:\n",
    "            sTail.next=gHead\n",
    "            sTail=gTail\n",
    "        sTail.next=None\n",
    "        \n",
    "    elif eHead is not None:\n",
    "        llist.head=eHead\n",
    "        if gHead is not None:\n",
    "            eTail.next=gHead\n",
    "            eTail=gTail\n",
    "        eTail.next=None\n",
    "    \n",
    "    elif gHead is not None:\n",
    "        llist.head=gHead\n",
    "        gTail.next=None\n",
    "\n",
    "    \n",
    "    \n",
    "        "
   ]
  },
  {
   "cell_type": "code",
   "execution_count": null,
   "metadata": {},
   "outputs": [],
   "source": [
    "\n",
    "llist=LinkedList()\n",
    "llist.append(10)\n",
    "llist.append(4)\n",
    "llist.append(20)\n",
    "llist.append(10)\n",
    "llist.append(3)\n",
    "llist.printList()\n",
    "\n",
    "print(\"After Partion\")\n",
    "partiitonFixedPivot(llist,3)\n",
    "\n",
    "llist.printList()"
   ]
  },
  {
   "cell_type": "markdown",
   "metadata": {},
   "source": [
    "# Sum List \n",
    "(7->1->6) + (5->9->2) is 2->1->9"
   ]
  },
  {
   "cell_type": "code",
   "execution_count": null,
   "metadata": {
    "collapsed": true
   },
   "outputs": [],
   "source": [
    "def sumListfirstStyle(llist1,llist2):\n",
    "    llist3=LinkedList()\n",
    "    remainingValue=0\n",
    "    \n",
    "    while((llist1 is not None) and (llist2 is not None)):\n",
    "        Sum=llist1.data+llist2.data+remainingValue\n",
    "        remainingValue=int(Sum/10)\n",
    "        llist3.append(int(Sum%10))\n",
    "        llist1=llist1.next\n",
    "        llist2=llist2.next\n",
    "            \n",
    "    \n",
    "    while(llist1 is not None):\n",
    "        llist3.append(llist1.data+remainingValue)\n",
    "        remainigValue=0\n",
    "        llist1=llist1.next\n",
    "        \n",
    "    while(llist2 is not None):\n",
    "        llist3.append(llist2.data+remainingValue)\n",
    "        remainigValue=0\n",
    "        llist2=llist2.next\n",
    "        \n",
    "    return llist3\n",
    "\n"
   ]
  },
  {
   "cell_type": "markdown",
   "metadata": {},
   "source": [
    "(6->1->7) + (2->9->5) is 2->1->9"
   ]
  },
  {
   "cell_type": "code",
   "execution_count": null,
   "metadata": {
    "collapsed": true
   },
   "outputs": [],
   "source": [
    "def pushtoStack(llist):\n",
    "    stack=[]\n",
    "    while llist is not None:\n",
    "        stack.append(llist.data)\n",
    "    return stack\n",
    "\n",
    "def sumListSecondStyle(llist1,llist2):\n",
    "    carry=0\n",
    "    s=0\n",
    "    \n",
    "    if llist1 is None or llist2 is None:\n",
    "        return None\n",
    "    \n",
    "    Size1=getsize(llist1)\n",
    "    Size2=getsize(llist2)\n",
    "    \n",
    "    if(Size1>Size2):\n",
    "        carry= sum(llist1.next, llist2)\n",
    "        s= n1.data+carry\n",
    "    elif(Size2>Size1):\n",
    "        carry= sum(llist1, llist2.next)\n",
    "        s= llist2.data+carry\n",
    "    \n",
    "    else \n",
    "        carry= sum(llist1.next, llist2.next)\n",
    "        s= llist1.data+llist1.data+carry\n",
    "        \n",
    "    carry= s/10\n",
    "    s=s%10\n",
    "\n",
    "    temp= LinkedList(s);\n",
    "    temp.next= result;\n",
    "    result= temp;\n",
    "\n",
    "    return carry;\n"
   ]
  },
  {
   "cell_type": "code",
   "execution_count": null,
   "metadata": {},
   "outputs": [],
   "source": [
    "llist1=LinkedList()\n",
    "llist1.append(6)\n",
    "llist1.append(1)\n",
    "llist1.append(7)\n",
    "llist1.printList()\n",
    "llist2=LinkedList()\n",
    "llist2.append(2)\n",
    "llist2.append(9)\n",
    "llist2.append(5)\n",
    "llist2.printList()\n",
    "\n",
    "print(\"After Sum\")\n",
    "llist3=sumListSecondStyle(llist1.head,llist2.head)\n",
    "#llist3.printList()"
   ]
  },
  {
   "cell_type": "markdown",
   "metadata": {
    "collapsed": true
   },
   "source": [
    "# Check if linked list is palindrome"
   ]
  },
  {
   "cell_type": "code",
   "execution_count": null,
   "metadata": {},
   "outputs": [],
   "source": [
    "def chkPalindrome(Llist):\n",
    "    originalList=Llist.head\n",
    "    \n",
    "    if originalList is None: \n",
    "        return False\n",
    "    revList=LinkedList() \n",
    "    while originalList is not None:\n",
    "        revList.push(originalList.data)\n",
    "        originalList=originalList.next\n",
    "        \n",
    "    originalList=Llist.head\n",
    "    \n",
    "    reverse=revList.head\n",
    "    \n",
    "    while originalList is not None:\n",
    "        if(reverse.data!=originalList.data):\n",
    "            return False\n",
    "        originalList=originalList.next\n",
    "        reverse=reverse.next\n",
    "    return True\n",
    "    \n",
    "\n",
    "llist1=LinkedList()\n",
    "llist1.append(6)\n",
    "llist1.append(1)\n",
    "llist1.append(7)\n",
    "llist1.append(1)\n",
    "llist1.append(7)\n",
    "llist1.append(7)\n",
    "llist1.append(1)\n",
    "llist1.append(6)\n",
    "llist1.printList()\n",
    "chkPalindrome(llist1)\n"
   ]
  },
  {
   "cell_type": "code",
   "execution_count": 22,
   "metadata": {},
   "outputs": [
    {
     "name": "stdout",
     "output_type": "stream",
     "text": [
      "3 -> 1 -> 5 -> 9 -> 7 -> 2 -> 1 -> None\n",
      "4 -> 6 -> 7 -> 2 -> 1 -> None\n",
      "Intersected Link\n",
      "7 -> 2 -> 1 -> None\n"
     ]
    }
   ],
   "source": [
    "llist1=LinkedList()\n",
    "llist1.append(3)\n",
    "llist1.append(1)\n",
    "llist1.append(5)\n",
    "llist1.append(9)\n",
    "llist2=LinkedList()\n",
    "llist2.append(4)\n",
    "llist2.append(6)\n",
    "llist3=LinkedList()\n",
    "llist3.append(7)\n",
    "llist3.append(2)\n",
    "llist3.append(1)\n",
    "\n",
    "llist4=LinkedList()\n",
    "llist4.append(7)\n",
    "llist4.append(2)\n",
    "llist4.append(1)\n",
    "\n",
    "llist1.addAnotherList(llist3)\n",
    "llist1.printList()\n",
    "llist2.addAnotherList(llist3)\n",
    "llist2.printList()\n",
    "\n",
    "class Result:\n",
    "    def __init__(self,size,n):\n",
    "        self.size=size\n",
    "        self.lastElement=n\n",
    "        \n",
    "def findSizeAndLastElement(llist):\n",
    "   # llist=Llist.head\n",
    "    size=1\n",
    "    while llist.next is not None:\n",
    "        size+=1\n",
    "        llist=llist.next\n",
    "    result=Result(size,llist.data)\n",
    "    return result\n",
    "    \n",
    "\n",
    "def chkIntersection(Llist1,Llist2):\n",
    "    llist1=Llist1.head\n",
    "    llist2=Llist2.head\n",
    "    \n",
    "    if llist1 is None or llist2 is None:\n",
    "        return None\n",
    "    \n",
    "    result1=findSizeAndLastElement(llist1)\n",
    "    result2=findSizeAndLastElement(llist2)\n",
    "    \n",
    "    if result1.lastElement!=result2.lastElement:\n",
    "        return None\n",
    "    \n",
    "    longerList=llist1 if result1.size>result2.size else llist2\n",
    "    shoterList=llist1 if result1.size<result2.size else llist2\n",
    "    \n",
    "    diff=abs(result1.size-result2.size)\n",
    "    \n",
    "    while diff>=1:\n",
    "        longerList=longerList.next\n",
    "        diff-=1\n",
    "    \n",
    "    while longerList is not shoterList:\n",
    "        shoterList=shoterList.next\n",
    "        longerList=longerList.next\n",
    "        interList=LinkedList()\n",
    "        interList.head=longerList\n",
    "    return interList\n",
    "\n",
    "intersectList=chkIntersection(llist1,llist2)\n",
    "print(\"Intersected Link\")\n",
    "intersectList.printList()"
   ]
  }
 ],
 "metadata": {
  "kernelspec": {
   "display_name": "Python 3",
   "language": "python",
   "name": "python3"
  },
  "language_info": {
   "codemirror_mode": {
    "name": "ipython",
    "version": 3
   },
   "file_extension": ".py",
   "mimetype": "text/x-python",
   "name": "python",
   "nbconvert_exporter": "python",
   "pygments_lexer": "ipython3",
   "version": "3.6.1"
  }
 },
 "nbformat": 4,
 "nbformat_minor": 2
}
