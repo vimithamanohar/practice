{
 "cells": [
  {
   "cell_type": "markdown",
   "metadata": {},
   "source": [
    "# Stack\n"
   ]
  },
  {
   "cell_type": "code",
   "execution_count": 10,
   "metadata": {},
   "outputs": [
    {
     "name": "stdout",
     "output_type": "stream",
     "text": [
      "Min VALUE: 1\n",
      "1 -> 4 -> 3 -> None\n",
      "1\n",
      "4 -> 3 -> None\n",
      "Min VALUE: 1\n"
     ]
    },
    {
     "data": {
      "text/plain": [
       "False"
      ]
     },
     "execution_count": 10,
     "metadata": {},
     "output_type": "execute_result"
    }
   ],
   "source": [
    "import sys \n",
    "class Node:\n",
    "    def __init__(self):\n",
    "        self.data=None\n",
    "        self.next=None\n",
    "class Stack:\n",
    "    def __init__(self):\n",
    "        self.top=0\n",
    "        self.head=None\n",
    "        self.min=sys.maxsize\n",
    "        self.myStack=[]\n",
    "        \n",
    "    def push(self,data):\n",
    "        n=Node()\n",
    "        n.data=data\n",
    "        self.min=data if data<self.min else self.min\n",
    "        n.next=self.head\n",
    "        self.head=n\n",
    "        self.top+=1\n",
    "    \n",
    "    def pop(self):\n",
    "        if self.top==0:\n",
    "            return\n",
    "        x=self.head.data\n",
    "        self.head=self.head.next\n",
    "        self.top-=1\n",
    "        return x \n",
    "    \n",
    "    def isEmpty(self):\n",
    "        return self.top==0 \n",
    "\n",
    "    def minValue(self):\n",
    "        if self.top!=0:\n",
    "            return self.min\n",
    "            \n",
    "    def printStack(self):\n",
    "        temp=self.head\n",
    "        liststr=\"\"\n",
    "        while(temp):\n",
    "            liststr=liststr+str(temp.data)+\" -> \"\n",
    "            temp=temp.next\n",
    "        print(liststr+ \"None\") \n",
    "\n",
    "s=Stack()\n",
    "s.push(3)\n",
    "s.push(4)\n",
    "\n",
    "s.push(1)\n",
    "print(\"Min VALUE: \"+str(s.minValue()))\n",
    "s.printStack()\n",
    "print(str(s.pop()))\n",
    "s.printStack()\n",
    "\n",
    "print(\"Min VALUE: \"+str(s.minValue()))\n",
    "s.isEmpty()\n"
   ]
  },
  {
   "cell_type": "markdown",
   "metadata": {},
   "source": [
    "# Queue"
   ]
  },
  {
   "cell_type": "code",
   "execution_count": 3,
   "metadata": {},
   "outputs": [
    {
     "name": "stdout",
     "output_type": "stream",
     "text": [
      "3 -> 4 -> None\n",
      "3\n",
      "4 -> None\n"
     ]
    },
    {
     "data": {
      "text/plain": [
       "False"
      ]
     },
     "execution_count": 3,
     "metadata": {},
     "output_type": "execute_result"
    }
   ],
   "source": [
    "class Node:\n",
    "    def __init__(self):\n",
    "        self.data=None\n",
    "        self.next=None\n",
    "class Queue:\n",
    "    def __init__(self):\n",
    "        self.first=None\n",
    "        self.last=None\n",
    "        \n",
    "    def enqueue(self,data):\n",
    "        n=Node()\n",
    "        n.data=data\n",
    "        \n",
    "        if self.first is None:\n",
    "            self.first=n\n",
    "            self.last=n\n",
    "        else:\n",
    "            self.last.next=n\n",
    "            self.last=n\n",
    "    \n",
    "    def dequeue(self):\n",
    "        if self.first is None:\n",
    "            return\n",
    "        x=self.first.data\n",
    "        self.first=self.first.next\n",
    "        return x \n",
    "    \n",
    "    def isEmpty(self):\n",
    "        return self.first is None \n",
    "\n",
    "\n",
    "    def printQueue(self):\n",
    "        temp=self.first\n",
    "        liststr=\"\"\n",
    "        while(temp):\n",
    "            liststr=liststr+str(temp.data)+\" -> \"\n",
    "            temp=temp.next\n",
    "        print(liststr+ \"None\") \n",
    "\n",
    "q=Queue()\n",
    "q.enqueue(3)\n",
    "q.enqueue(4)\n",
    "q.printQueue()\n",
    "\n",
    "print(str(q.dequeue()))\n",
    "q.printQueue()\n",
    "q.isEmpty()"
   ]
  },
  {
   "cell_type": "code",
   "execution_count": null,
   "metadata": {
    "collapsed": true
   },
   "outputs": [],
   "source": [
    "# One array implementing three stacks "
   ]
  },
  {
   "cell_type": "code",
   "execution_count": null,
   "metadata": {
    "collapsed": true
   },
   "outputs": [],
   "source": [
    "class threeStack:\n",
    "    \n",
    "    def threeStackInOne()"
   ]
  },
  {
   "cell_type": "code",
   "execution_count": null,
   "metadata": {
    "collapsed": true
   },
   "outputs": [],
   "source": []
  }
 ],
 "metadata": {
  "kernelspec": {
   "display_name": "Python 3",
   "language": "python",
   "name": "python3"
  },
  "language_info": {
   "codemirror_mode": {
    "name": "ipython",
    "version": 3
   },
   "file_extension": ".py",
   "mimetype": "text/x-python",
   "name": "python",
   "nbconvert_exporter": "python",
   "pygments_lexer": "ipython3",
   "version": "3.6.1"
  }
 },
 "nbformat": 4,
 "nbformat_minor": 2
}
